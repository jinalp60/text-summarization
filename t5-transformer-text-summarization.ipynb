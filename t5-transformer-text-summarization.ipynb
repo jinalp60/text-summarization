{
 "cells": [
  {
   "cell_type": "code",
   "execution_count": null,
   "metadata": {},
   "outputs": [
    {
     "name": "stderr",
     "output_type": "stream",
     "text": [
      "All PyTorch model weights were used when initializing TFT5ForConditionalGeneration.\n",
      "\n",
      "All the weights of TFT5ForConditionalGeneration were initialized from the PyTorch model.\n",
      "If your task is similar to the task the model of the checkpoint was trained on, you can already use TFT5ForConditionalGeneration for predictions without further training.\n"
     ]
    },
    {
     "name": "stdout",
     "output_type": "stream",
     "text": [
      "Summary: the planet, named Proxima b, orbits the star Proxima Centauri. it is located in the habitable zone of the planet. the planet is located in the habitable zone of the planet.\n"
     ]
    }
   ],
   "source": [
    "from transformers import T5Tokenizer, TFT5ForConditionalGeneration\n",
    "\n",
    "# Load T5 model and tokenizer\n",
    "model_name = \"t5-small\"  \n",
    "tokenizer = T5Tokenizer.from_pretrained(model_name)\n",
    "model = TFT5ForConditionalGeneration.from_pretrained(model_name)\n",
    "\n",
    "# Function to summarize text\n",
    "def summarize_text(text):\n",
    "    # Preprocess input by prepending \"summarize: \" to input as T5 expects task-specific prefix\n",
    "    input_text = \"summarize: \" + text\n",
    "    inputs = tokenizer(input_text, return_tensors=\"tf\", max_length=512, truncation=True, padding=\"max_length\")\n",
    "\n",
    "    # Generate summary\n",
    "    summary_ids = model.generate(\n",
    "        inputs[\"input_ids\"], \n",
    "        max_length=150, \n",
    "        min_length=50, \n",
    "        length_penalty=2.0, \n",
    "        num_beams=4, # Number of beams for beam search\n",
    "        num_return_sequences=1,  # Return only the best summary for each input\n",
    "        early_stopping=True\n",
    "    )\n",
    "\n",
    "    # Decode and return summary\n",
    "    summary = tokenizer.decode(summary_ids[0], skip_special_tokens=True)\n",
    "    return summary\n",
    "\n",
    "# test article\n",
    "text = \"Scientists have discovered a new planet that might support life. The planet, named Proxima b, orbits the star Proxima Centauri and is located in the habitable zone.\"\n",
    "summary = summarize_text(text)\n",
    "print(\"Summary:\", summary)\n"
   ]
  }
 ],
 "metadata": {
  "kernelspec": {
   "display_name": "Python 3",
   "language": "python",
   "name": "python3"
  },
  "language_info": {
   "codemirror_mode": {
    "name": "ipython",
    "version": 3
   },
   "file_extension": ".py",
   "mimetype": "text/x-python",
   "name": "python",
   "nbconvert_exporter": "python",
   "pygments_lexer": "ipython3",
   "version": "3.8.7"
  }
 },
 "nbformat": 4,
 "nbformat_minor": 2
}
